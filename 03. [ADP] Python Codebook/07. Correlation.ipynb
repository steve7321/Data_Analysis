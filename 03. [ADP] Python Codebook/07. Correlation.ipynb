{
 "cells": [
  {
   "cell_type": "markdown",
   "id": "c108d0a9-8f69-49c6-b593-110d8091a1f0",
   "metadata": {},
   "source": [
    "## **7. 공분산과 상관계수**"
   ]
  },
  {
   "cell_type": "markdown",
   "id": "afc60d7d-30d4-4fd8-9515-010135ec2362",
   "metadata": {},
   "source": [
    "### **7-1. 공분산**\n",
    "두 변수가 서로 독립이면 공분산은 0 (역은 성립하지 않음. 비선형 연관성 존재 가능)"
   ]
  },
  {
   "cell_type": "code",
   "execution_count": 1,
   "id": "5f8d5a3d-7018-43d4-b470-831e8ac37a97",
   "metadata": {},
   "outputs": [
    {
     "name": "stdout",
     "output_type": "stream",
     "text": [
      "[수기 계산]\n",
      " 16.80, 16.80\n"
     ]
    }
   ],
   "source": [
    "print(\"[수기 계산]\")\n",
    "import numpy as np\n",
    "X = np.array([4,6,6,8,8,9,9,10,12,12])\n",
    "Y = np.array([39,42,45,47,50,50,52,55,57,60])\n",
    "Xm = np.mean(X)\n",
    "Ym = np.mean(Y)\n",
    "n = len(X)\n",
    "\n",
    "# 공분산을 계산하는 두 가지 방법\n",
    "cov1 = (np.sum(X*Y) - n*Xm*Ym) / (n-1)\n",
    "cov2 = sum((X - Xm)*(Y - Ym)) / (n-1)\n",
    "print(\" {:.2f}, {:.2f}\".format(cov1, cov2))"
   ]
  },
  {
   "cell_type": "code",
   "execution_count": 5,
   "id": "9b2f2414-9f83-4e9a-8216-c3b06b9900db",
   "metadata": {},
   "outputs": [
    {
     "name": "stdout",
     "output_type": "stream",
     "text": [
      "[라이브러리 계산]\n",
      "           X          Y\n",
      "X   6.711111  16.800000\n",
      "Y  16.800000  44.011111\n",
      " X-Y의 공분산: 16.80\n"
     ]
    }
   ],
   "source": [
    "print(\"[라이브러리 계산]\")\n",
    "import pandas as pd\n",
    "cov3 = np.cov(X, Y) # numpy는 공분산 행렬을 반환해줌\n",
    "print(pd.DataFrame(cov3, columns=['X', 'Y'], index=['X', 'Y']))\n",
    "print(\" X-Y의 공분산: {:.2f}\".format(cov3[0][1]))"
   ]
  },
  {
   "cell_type": "code",
   "execution_count": null,
   "id": "2607b73d-33bf-444f-a3d9-3c47a71b584c",
   "metadata": {},
   "outputs": [],
   "source": []
  },
  {
   "cell_type": "markdown",
   "id": "158cd83d-931a-4bc6-ad21-9d3f9cc1da92",
   "metadata": {},
   "source": [
    "### **7-2. 상관계수**\n",
    "- 공분산은 변수의 측정단위에 영향 --> 공분산을 각 변수의 표준편차로 나눈 상관계수 사용\n",
    "- 피어슨 상관계수: 연속형(등간/비율), 정규분포 가정\n",
    "- 스피어만 순위상관계수 / 켄달의 타우: 서열 척도 or 수치형 극단적 분포, 비모수적 (확률 분포 정보 X)\n",
    "- 크라메르의 연관계수: 범주형, 카이제곱 독립성 크기 측정, 0~1: 0.2이하 / 0.6이상\n",
    "\n",
    "**적용 기준 (퍼플렉시티)**\n",
    "1. 순위형 데이터 분석 시:  \n",
    "   A. 대표본(n>=30) + 이상치 적음 → 스피어만  \n",
    "   B. 소표본(n<30) + 동순위 많음 → 켄달의 타우  \n",
    "3. 명목형 데이터 분석 시: 크라메르의 연관계수"
   ]
  },
  {
   "cell_type": "markdown",
   "id": "722bcc3d-acfc-4eb3-bdb3-185fae11ad1d",
   "metadata": {},
   "source": [
    "#### 피어슨 상관계수\n",
    "- Z분포로 모상관계수의 신뢰구간 추정 / t or Z분포로 모상관계수 0 여부 검정 (무상관 검정)"
   ]
  },
  {
   "cell_type": "code",
   "execution_count": 6,
   "id": "7492eccb-6cca-4091-8199-792e41ef6be4",
   "metadata": {},
   "outputs": [
    {
     "name": "stdout",
     "output_type": "stream",
     "text": [
      "[수기 계산]\n",
      " 0.98, 0.98\n"
     ]
    }
   ],
   "source": [
    "# 피어슨 상관계수 (=표본상관계수)\n",
    "print(\"[수기 계산]\")\n",
    "X = np.array([4,6,6,8,8,9,9,10,12,12])\n",
    "Y = np.array([39,42,45,47,50,50,52,55,57,60])\n",
    "\n",
    "# 표본상관계수 계산하는 두 가지 방법\n",
    "Xm = np.mean(X)\n",
    "Ym = np.mean(Y)\n",
    "n = len(X)\n",
    "corr1 = (np.sum(X*Y) - n*Xm*Ym) / np.sqrt(sum((X-Xm)**2) * sum((Y-Ym)**2))\n",
    "\n",
    "Sx = np.sqrt(sum((X - Xm)**2) / (n-1)) # X표본표준편차\n",
    "Sy = np.sqrt(sum((Y - Ym)**2) / (n-1)) # Y표본표준편차\n",
    "cov1 = (np.sum(X*Y) - n*Xm*Ym) / (n-1) #X, Y의 공분산\n",
    "corr2 = cov1 / (Sx*Sy) # 공분산을 X, Y의 표본표준편차들로 나누어서 구한다.\n",
    "print(\" {:.2f}, {:.2f}\".format(corr1, corr2))"
   ]
  },
  {
   "cell_type": "code",
   "execution_count": 7,
   "id": "4aea77ca-9af0-4805-ac39-fa6c2110c2bd",
   "metadata": {},
   "outputs": [
    {
     "name": "stdout",
     "output_type": "stream",
     "text": [
      "[라이브러리 계산]\n",
      " 0.98, 0.98 (p-value: 0.00)\n"
     ]
    }
   ],
   "source": [
    "print(\"[라이브러리 계산]\")\n",
    "from scipy.stats import pearsonr\n",
    "corr3 = np.corrcoef(X,Y)[0][1]\n",
    "corr4, pval = pearsonr(X, Y) # 피어슨 상관계수와 유의확률을 반환해줌\n",
    "print(\" {:.2f}, {:.2f} (p-value: {:.2f})\".format(corr3, corr4, pval))"
   ]
  },
  {
   "cell_type": "code",
   "execution_count": 9,
   "id": "7f0954d2-5288-41e5-baf0-79ae38b14a8d",
   "metadata": {},
   "outputs": [
    {
     "name": "stdout",
     "output_type": "stream",
     "text": [
      "[추정]\n",
      " 점 추정량: 0.978\n",
      " 구간 추정량: 0.905~0.995\n"
     ]
    }
   ],
   "source": [
    "# 모상관계수의 점추정량과 신뢰구간 계산: Z분포 사용\n",
    "from scipy.stats import norm\n",
    "conf_a = 0.05\n",
    "conf_z = norm.ppf(1-conf_a/2) #or 1.96\n",
    "r1 = corr1 #위에서 계산한 표본상관계수 corr1\n",
    "n = len(X) #표본의 개수\n",
    "a = 1/2 * np.log((1+r1)/(1-r1)) -conf_z/np.sqrt(n-3)\n",
    "b = 1/2 * np.log((1+r1)/(1-r1)) +conf_z/np.sqrt(n-3)\n",
    "conf1 = (np.exp(2*a)-1) / (np.exp(2*a)+1) # = np.tanh(a)\n",
    "conf2 = (np.exp(2*b)-1) / (np.exp(2*b)+1) # = np.tanh(b)\n",
    "\n",
    "print(\"[추정]\")\n",
    "print(\" 점 추정량: {:.3f}\".format(r1))\n",
    "print(\" 구간 추정량: {:.3f}~{:.3f}\".format(conf1, conf2))"
   ]
  },
  {
   "cell_type": "code",
   "execution_count": 10,
   "id": "b26f3af4-c12e-4fb4-b171-6e1ea35b4d77",
   "metadata": {},
   "outputs": [
    {
     "name": "stdout",
     "output_type": "stream",
     "text": [
      "[검정]\n",
      " 임계값: +/- 2.306, 검정통계량: 13.117\n",
      " 유의수준: 0.050, 유의확률: 0.000\n"
     ]
    }
   ],
   "source": [
    "# 모상관계수의 가설 검정: t분포 사용, 표본이 충분히 큰 경우에는 Z분포 사용\n",
    "# H0: 모상관계수는 0이다, H1: 모상관계수는 0이 아니다. (통계적으로 유의하다)\n",
    "from scipy.stats import t, norm\n",
    "r0 = 0 #귀무가설의 모상관계수\n",
    "r1 = corr1 #위에서 계산한 표본상관계수 corr1\n",
    "n = len(X) #표본의 개수\n",
    "df = n-2 #자유도\n",
    "tstat = np.sqrt(df) * (r1-r0) / np.sqrt(1-r1**2) #검정통계량 t\n",
    "#zstat = 1/2 * np.log((1+r1)/(1-r1)) # 검정통계량 Z\n",
    "test_a = 0.05\n",
    "sp = (1-t.cdf(np.abs(tstat), df))*2 #양측검정\n",
    "cv = t.ppf(1-test_a/2, df)\n",
    "cv = \"+/- {:.3f}\".format(cv)\n",
    "\n",
    "print(\"[검정]\") # 귀무가설을 기각할 수 없음!\n",
    "print(\" 임계값: {}, 검정통계량: {:.3f}\".format(cv, tstat))\n",
    "print(\" 유의수준: {:.3f}, 유의확률: {:.3f}\".format(test_a, sp))"
   ]
  },
  {
   "cell_type": "code",
   "execution_count": 11,
   "id": "cafaddc9-b78f-4fd3-a6eb-b67787038ab4",
   "metadata": {},
   "outputs": [
    {
     "name": "stdout",
     "output_type": "stream",
     "text": [
      "[라이브러리 검정]\n",
      " 상관계수: 0.978, p-value: 0.000\n"
     ]
    }
   ],
   "source": [
    "print(\"[라이브러리 검정]\")\n",
    "from scipy.stats import pearsonr\n",
    "corr, p = pearsonr(X, Y)\n",
    "print(\" 상관계수: {:.3f}, p-value: {:.3f}\".format(corr, p))\n",
    "## 검정 결과, 대립가설을 채택하여 모상관계수가 0이 아니기 때문에 구해진 상관계수는 통계적으로 유의하다는 결론을 얻었다."
   ]
  },
  {
   "cell_type": "markdown",
   "id": "29714e35-d6bd-4437-8737-82b3e5f2d8c9",
   "metadata": {},
   "source": [
    "#### 스피어만 순위상관계수\n",
    "순위 데이터 중 동순위가 없다면, 스피어만 순위상관계수 = 피어슨 상관계수"
   ]
  },
  {
   "cell_type": "code",
   "execution_count": 13,
   "id": "9d6cc6f8-0d66-4678-93c1-754e480ce1e4",
   "metadata": {},
   "outputs": [
    {
     "name": "stdout",
     "output_type": "stream",
     "text": [
      "[수기 계산]\n",
      " 표본 내 동일한 데이터가 없는 경우 0.661\n"
     ]
    }
   ],
   "source": [
    "## 표본 내 같은 순위가 없는 경우\n",
    "from pandas import DataFrame\n",
    "X = np.array([1,2,3,4,5,6,7,8,9,10])\n",
    "Y = np.array([4,3,5,2,6,1,10,7,8,9])\n",
    "\n",
    "print(\"[수기 계산]\")\n",
    "rtable = DataFrame({\"X\":X, 'Y':Y})\n",
    "rtable['Xr'] = rtable['X'].rank(ascending=False)\n",
    "rtable['Yr'] = rtable['Y'].rank(ascending=False)\n",
    "corr1 = 1 - 6 * sum((rtable['Xr']-rtable['Yr'])**2)/len(X)/(len(X)**2-1)\n",
    "print(\" 표본 내 동일한 데이터가 없는 경우 {:.3f}\".format(corr1))"
   ]
  },
  {
   "cell_type": "code",
   "execution_count": 14,
   "id": "bbf376a8-605b-430e-9a9b-0cf0d907128e",
   "metadata": {},
   "outputs": [
    {
     "name": "stdout",
     "output_type": "stream",
     "text": [
      "[라이브러리 계산]\n",
      " 표본 내 동일한 데이터가 없는 경우 0.661, p-value: 0.038\n"
     ]
    }
   ],
   "source": [
    "print(\"[라이브러리 계산]\")\n",
    "from scipy.stats import spearmanr\n",
    "corr2, p = spearmanr(X, Y)\n",
    "print(\" 표본 내 동일한 데이터가 없는 경우 {:.3f}, p-value: {:.3f}\".format(corr2, p))\n",
    "## p-value가 유의수준 0.05보다 작으므로 해당 상관계수는 통계적으로 유의!"
   ]
  },
  {
   "cell_type": "code",
   "execution_count": 17,
   "id": "794a2832-40a7-4bb8-8bbb-d6beded93216",
   "metadata": {},
   "outputs": [
    {
     "name": "stdout",
     "output_type": "stream",
     "text": [
      "[수기 계산]\n",
      " 표본 내 동일한 데이터가 있는 경우 -0.297\n"
     ]
    }
   ],
   "source": [
    "## 표본 내 같은 순위가 있는 경우\n",
    "X2 = np.array([10,9,9,8,8,8])\n",
    "Y2 = np.array([6,7,8,8,7,6.5])\n",
    "\n",
    "print(\"[수기 계산]\")\n",
    "rtable = DataFrame({\"X2\":X2, 'Y2':Y2})\n",
    "rtable['X2r'] = rtable['X2'].rank(ascending=False)\n",
    "rtable['Y2r'] = rtable['Y2'].rank(ascending=False)\n",
    "\n",
    "#C: 같은 순위에 포함된 데이터 개수\n",
    "#Clist: C들이 포함된 리스트\n",
    "Cxlist = DataFrame(rtable['X2r'].value_counts()).query(\"X2r >= 2\").values.ravel()\n",
    "Cylist = DataFrame(rtable['Y2r'].value_counts()).query(\"Y2r >= 2\").values.ravel()\n",
    "\n",
    "#Cx와 Cy 구하기\n",
    "Cx = 0\n",
    "Cy = 0\n",
    "for cx, cy in zip(Cxlist, Cylist):\n",
    "    Cx += cx*(cx**2-1)\n",
    "    Cy += cy*(cy**2-1)\n",
    "\n",
    "#Tx와 Ty 구하기\n",
    "Tx = 1/12 * (len(X2)*(len(X2)**2-1) - Cx)\n",
    "Ty = 1/12 * (len(Y2)*(len(Y2)**2-1) - Cy)\n",
    "\n",
    "corr3 = (Tx+Ty-sum((rtable['X2r']-rtable['Y2r'])**2)) / (2* np.sqrt(Tx*Ty))\n",
    "print(\" 표본 내 동일한 데이터가 있는 경우 {:.3f}\".format(corr3))"
   ]
  },
  {
   "cell_type": "code",
   "execution_count": 18,
   "id": "d87f280b-bb35-48c2-998e-2be9e9c1c7cf",
   "metadata": {},
   "outputs": [
    {
     "name": "stdout",
     "output_type": "stream",
     "text": [
      "[라이브러리 계산]\n",
      " 표본 내 동일한 데이터가 있는 경우 -0.318, p-value: 0.539\n"
     ]
    }
   ],
   "source": [
    "print(\"[라이브러리 계산]\")\n",
    "from scipy.stats import spearmanr\n",
    "corr4, p = spearmanr(X2, Y2)\n",
    "print(\" 표본 내 동일한 데이터가 있는 경우 {:.3f}, p-value: {:.3f}\".format(corr4, p))\n",
    "## 유의수준 0.05 기준으로 해당 상관계수는 통계적으로 유의하다고 보기 어렵다."
   ]
  },
  {
   "cell_type": "markdown",
   "id": "b8517dd5-dfde-4353-b771-3e7d1d412336",
   "metadata": {},
   "source": [
    "#### 켄달의 타우"
   ]
  },
  {
   "cell_type": "code",
   "execution_count": 19,
   "id": "412f7766-0738-4207-b994-8517cbd649f6",
   "metadata": {},
   "outputs": [
    {
     "name": "stdout",
     "output_type": "stream",
     "text": [
      "[수기 계산]\n",
      " 표본 내 동일한 데이터가 없는 경우 0.722\n"
     ]
    }
   ],
   "source": [
    "## 표본 내 같은 순위가 없는 경우\n",
    "def combi(x, y):\n",
    "    from math import factorial as fact\n",
    "    return fact(x)/fact(x-y)/fact(y)\n",
    "\n",
    "X = np.array([80,70,60,50,95,85,77,55,65])\n",
    "Y = np.array([6,3,2,1,8,9,7,4,5])\n",
    "\n",
    "print(\"[수기 계산]\")\n",
    "One = 0\n",
    "mOne = 0\n",
    "for i in range(0, len(X)):\n",
    "    for j in range(i, len(X)):\n",
    "        if (X[i]-X[j])*(Y[i]-Y[j]) > 0:\n",
    "            One += 1\n",
    "        elif (X[i]-X[j])*(Y[i]-Y[j]) < 0:\n",
    "            mOne += 1\n",
    "\n",
    "corr1 = (1*One -1*mOne) / combi(len(X), 2)\n",
    "print(\" 표본 내 동일한 데이터가 없는 경우 {:.3f}\".format(corr1))"
   ]
  },
  {
   "cell_type": "code",
   "execution_count": 20,
   "id": "1f8688f2-b727-4e69-b93b-7462e6b793d6",
   "metadata": {},
   "outputs": [
    {
     "name": "stdout",
     "output_type": "stream",
     "text": [
      "[라이브러리 계산]\n",
      " 표본 내 동일한 데이터가 없는 경우 0.722, p-value: 0.006\n"
     ]
    }
   ],
   "source": [
    "from scipy.stats import kendalltau\n",
    "print(\"[라이브러리 계산]\")\n",
    "corr2, p = kendalltau(X, Y)\n",
    "print(\" 표본 내 동일한 데이터가 없는 경우 {:.3f}, p-value: {:.3f}\".format(corr2, p))"
   ]
  },
  {
   "cell_type": "code",
   "execution_count": 21,
   "id": "382419c3-4868-4086-8b10-a84259fab58b",
   "metadata": {},
   "outputs": [
    {
     "name": "stdout",
     "output_type": "stream",
     "text": [
      "[수기 계산]\n",
      " 표본 내 동일한 데이터가 있는 경우 -0.242\n"
     ]
    }
   ],
   "source": [
    "## 표본 내 같은 순위가 있는 경우\n",
    "def combi(x, y):\n",
    "    from math import factorial as fact\n",
    "    return fact(x)/fact(x-y)/fact(y)\n",
    "\n",
    "X2 = np.array([10,9,9,8,8,8])\n",
    "Y2 = np.array([6,7,8,8,7,6.5])\n",
    "\n",
    "print(\"[수기 계산]\")\n",
    "One = 0\n",
    "mOne = 0\n",
    "for i in range(0, len(X2)):\n",
    "    for j in range(i, len(X2)):\n",
    "        if (X2[i]-X2[j])*(Y2[i]-Y2[j]) > 0:\n",
    "            One += 1\n",
    "        elif (X2[i]-X2[j])*(Y2[i]-Y2[j]) < 0:\n",
    "            mOne += 1\n",
    "            \n",
    "#Cx, Cy:같은 순위에 포함된 데이터 개수\n",
    "rtable = DataFrame({\"X2\":X2, 'Y2':Y2})\n",
    "rtable['X2r'] = rtable['X2'].rank(ascending=False)\n",
    "rtable['Y2r'] = rtable['Y2'].rank(ascending=False)\n",
    "\n",
    "#Clist: C들이 포함된 리스트\n",
    "Cxlist = DataFrame(rtable['X2r'].value_counts()).query(\"X2r>=2\").values.ravel()\n",
    "Cylist = DataFrame(rtable['Y2r'].value_counts()).query(\"Y2r>=2\").values.ravel()\n",
    "\n",
    "#Cx와 Cy 구하기\n",
    "Cx = 0\n",
    "Cy = 0\n",
    "for cx, cy in zip(Cxlist, Cylist):\n",
    "    Cx += 1/2*cx*(cx-1)\n",
    "    Cy += 1/2*cy*(cy-1)\n",
    "\n",
    "#Tx와 Ty 구하기\n",
    "Tx = combi(len(X2), 2) - Cx\n",
    "Ty = combi(len(X2), 2) - Cy\n",
    "    \n",
    "corr3 = (1*One -1*mOne) / np.sqrt(Tx*Ty)\n",
    "print(\" 표본 내 동일한 데이터가 있는 경우 {:.3f}\".format(corr3))"
   ]
  },
  {
   "cell_type": "code",
   "execution_count": 22,
   "id": "55e6d096-44ca-4246-92cf-c8b4b44d0d1e",
   "metadata": {},
   "outputs": [
    {
     "name": "stdout",
     "output_type": "stream",
     "text": [
      "[라이브러리 계산]\n",
      " 표본 내 동일한 데이터가 있는 경우 -0.251, p-value: 0.524\n"
     ]
    }
   ],
   "source": [
    "print(\"[라이브러리 계산]\")\n",
    "from scipy.stats import kendalltau\n",
    "corr4, p = kendalltau(X2, Y2)\n",
    "print(\" 표본 내 동일한 데이터가 있는 경우 {:.3f}, p-value: {:.3f}\".format(corr4, p))"
   ]
  },
  {
   "cell_type": "markdown",
   "id": "97368a2f-0793-4840-bc63-2396dbf802fe",
   "metadata": {},
   "source": [
    "#### 크라메르의 연관계수"
   ]
  },
  {
   "cell_type": "code",
   "execution_count": 23,
   "id": "4cab7781-756b-491c-a848-fb9231a95f37",
   "metadata": {},
   "outputs": [
    {
     "name": "stdout",
     "output_type": "stream",
     "text": [
      "[수기 계산]\n",
      "데이터 확인:\n",
      "     안경O  안경X\n",
      "성별          \n",
      "남자   10   40\n",
      "여자   30   20\n"
     ]
    }
   ],
   "source": [
    "print(\"[수기 계산]\")\n",
    "from pandas import DataFrame\n",
    "import numpy as np\n",
    "table = DataFrame({\"성별\":['남자', '여자'], '안경O':[10,30], '안경X':[40, 20]}).set_index('성별')\n",
    "print(\"데이터 확인:\\n\", table)"
   ]
  },
  {
   "cell_type": "code",
   "execution_count": 24,
   "id": "18098491-502a-4360-8ee3-fdcb58ee8894",
   "metadata": {},
   "outputs": [
    {
     "name": "stdout",
     "output_type": "stream",
     "text": [
      " 연관계수: 0.408\n"
     ]
    }
   ],
   "source": [
    "n = table.sum().sum() #전체 데이터 개수\n",
    "exp = []\n",
    "r = table.sum(axis=1).values\n",
    "c = table.sum(axis=0).values\n",
    "\n",
    "for R in r:\n",
    "    for C in c:\n",
    "        exp.append(R*C/n)\n",
    "        \n",
    "obs = table.values.ravel()\n",
    "chistat = np.sum((obs - exp)**2 / exp)\n",
    "\n",
    "k, l = table.shape[0], table.shape[1] #각 변수의 범주의 개수\n",
    "V = np.sqrt(chistat/(np.minimum(k, l)-1)/n)\n",
    "\n",
    "print(\" 연관계수: {:.3f}\".format(V))"
   ]
  },
  {
   "cell_type": "code",
   "execution_count": 25,
   "id": "20429010-b35e-4987-aa57-54ebfa6acca1",
   "metadata": {},
   "outputs": [
    {
     "name": "stdout",
     "output_type": "stream",
     "text": [
      "[라이브러리 계산]\n",
      " 연관계수: 0.408\n"
     ]
    }
   ],
   "source": [
    "print(\"[라이브러리 계산]\")\n",
    "from scipy.stats.contingency import association\n",
    "V2 = association(table.values, method='cramer')\n",
    "print(\" 연관계수: {:.3f}\".format(V2))"
   ]
  },
  {
   "cell_type": "code",
   "execution_count": null,
   "id": "7a1f349c-76ec-4705-98a8-b902f5d95ead",
   "metadata": {},
   "outputs": [],
   "source": []
  },
  {
   "cell_type": "markdown",
   "id": "8dc1ff9c-61ff-4e2b-b134-1f0f48b8b578",
   "metadata": {},
   "source": [
    "#### 연습문제 #1"
   ]
  },
  {
   "cell_type": "code",
   "execution_count": 32,
   "id": "b6610a30-5970-4c1a-861b-70c5a77e1b1b",
   "metadata": {},
   "outputs": [
    {
     "name": "stdout",
     "output_type": "stream",
     "text": [
      "피어슨 상관계수 0.75 (p-value 0.02)\n",
      "스피어만 상관계수 0.82 (p-value 0.01)\n"
     ]
    }
   ],
   "source": [
    "from scipy.stats import pearsonr, spearmanr\n",
    "math = [96, 93, 63, 89, 85, 84, 66, 62, 90]\n",
    "eng = [98, 90, 74, 84, 69, 69, 73, 61, 98]\n",
    "pr, p1 = pearsonr(math, eng)\n",
    "sr, p2 = spearmanr(math, eng)\n",
    "print(\"피어슨 상관계수 {:.2f} (p-value {:.2f})\".format(pr, p1))\n",
    "print(\"스피어만 상관계수 {:.2f} (p-value {:.2f})\".format(sr, p2))\n",
    "# 두 상관계수 모두 유의확률이 유의수준 0.05보다 작기 때문에 통계적으로 유의하다."
   ]
  },
  {
   "cell_type": "code",
   "execution_count": 33,
   "id": "f9efb09a-091a-44b4-a65c-72b4bfbceec0",
   "metadata": {},
   "outputs": [
    {
     "name": "stdout",
     "output_type": "stream",
     "text": [
      " 구간 추정량: 0.283~0.927\n"
     ]
    }
   ],
   "source": [
    "# 피어슨 상관계수의 신뢰구간 계산\n",
    "from scipy.stats import norm\n",
    "import numpy as np\n",
    "conf_a = 0.1 # 신뢰수준 90%\n",
    "conf_z = norm.ppf(1-conf_a/2)\n",
    "\n",
    "r1 = pr #위에서 계산한 표본상관계수 pr을 사용\n",
    "n = 9 #표본의 개수\n",
    "a = 1/2 * np.log((1+r1)/(1-r1)) -conf_z/np.sqrt(n-3)\n",
    "b = 1/2 * np.log((1+r1)/(1-r1)) +conf_z/np.sqrt(n-3)\n",
    "conf1 = (np.exp(2*a)-1) / (np.exp(2*a)+1)\n",
    "conf2 = (np.exp(2*b)-1) / (np.exp(2*b)+1)\n",
    "print(\" 구간 추정량: {:.3f}~{:.3f}\".format(conf1, conf2))"
   ]
  },
  {
   "cell_type": "code",
   "execution_count": null,
   "id": "cd7c22f2-2331-41d9-999d-018e9b77a2f1",
   "metadata": {},
   "outputs": [],
   "source": []
  },
  {
   "cell_type": "markdown",
   "id": "718edff0-3b3c-4df0-b0a3-b36b8157b1a3",
   "metadata": {},
   "source": [
    "#### 연습문제 #2"
   ]
  },
  {
   "cell_type": "code",
   "execution_count": 34,
   "id": "fb8d2cc5-9d63-4dd9-8f47-227412847ddf",
   "metadata": {},
   "outputs": [
    {
     "name": "stdout",
     "output_type": "stream",
     "text": [
      "0.2\n"
     ]
    }
   ],
   "source": [
    "# corr = cov / (Sx*Sy) # 공분산을 X, Y의 표본표준편차들로 나누어서 구한다.\n",
    "cov = 4/ (4*5)\n",
    "print(cov)"
   ]
  },
  {
   "cell_type": "code",
   "execution_count": null,
   "id": "af3b55fc-f9bb-47a1-94b5-401d6b3f1ba9",
   "metadata": {},
   "outputs": [],
   "source": []
  },
  {
   "cell_type": "code",
   "execution_count": null,
   "id": "4d8fce2b-fae1-435f-b803-46584360c8bd",
   "metadata": {},
   "outputs": [],
   "source": []
  },
  {
   "cell_type": "code",
   "execution_count": null,
   "id": "7bebebb3-a55d-4bfb-8078-2aefaf9913a0",
   "metadata": {},
   "outputs": [],
   "source": []
  },
  {
   "cell_type": "code",
   "execution_count": null,
   "id": "109867fa-3360-4470-bb7b-6ec6d85fd3dd",
   "metadata": {},
   "outputs": [],
   "source": []
  }
 ],
 "metadata": {
  "kernelspec": {
   "display_name": "Python 3 (ipykernel)",
   "language": "python",
   "name": "python3"
  },
  "language_info": {
   "codemirror_mode": {
    "name": "ipython",
    "version": 3
   },
   "file_extension": ".py",
   "mimetype": "text/x-python",
   "name": "python",
   "nbconvert_exporter": "python",
   "pygments_lexer": "ipython3",
   "version": "3.12.7"
  }
 },
 "nbformat": 4,
 "nbformat_minor": 5
}
