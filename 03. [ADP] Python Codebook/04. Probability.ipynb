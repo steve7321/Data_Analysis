{
 "cells": [
  {
   "cell_type": "markdown",
   "id": "afa767ea-ea38-4da1-bcb0-edc9f301cc53",
   "metadata": {},
   "source": [
    "## **4장. 확률분포**"
   ]
  },
  {
   "cell_type": "markdown",
   "id": "71662e14-f892-456b-8926-9534281b68b3",
   "metadata": {},
   "source": [
    "### **4-1. 특수한 이산형 확률분포들**"
   ]
  },
  {
   "cell_type": "markdown",
   "id": "20cebd52-d61d-4d1a-b6ea-5fa104369993",
   "metadata": {},
   "source": [
    "#### 베르누이 분포"
   ]
  },
  {
   "cell_type": "code",
   "execution_count": 1,
   "id": "67ad72dd-5edb-4b82-8e5e-f3038e5509e7",
   "metadata": {},
   "outputs": [
    {
     "name": "stdout",
     "output_type": "stream",
     "text": [
      "[수기] 해당 분포의 기댓값은 0.300, 분산은 0.210\n",
      "[라이브러리] 해당 분포의 기댓값은 0.300, 분산은 0.210\n"
     ]
    }
   ],
   "source": [
    "# 베르누이 분포\n",
    "p = 0.3 #성공할 확률\n",
    "q = 1-p #실패할 확률\n",
    "E = p #기댓값\n",
    "V = p*q #분산\n",
    "print('[수기] 해당 분포의 기댓값은 {:.3f}, 분산은 {:.3f}'.format(E, V))\n",
    "from scipy.stats import bernoulli\n",
    "E2, V2 = bernoulli.stats(p)\n",
    "print('[라이브러리] 해당 분포의 기댓값은 {:.3f}, 분산은 {:.3f}'.format(E2, V2))"
   ]
  },
  {
   "cell_type": "markdown",
   "id": "1e09204b-91b3-43ca-8387-784a3e26aefe",
   "metadata": {},
   "source": [
    "#### 이항분포\n",
    ": 성공 확률 p인 베르누이를 독립적으로 n번 시행했을 때 성공횟수를 확률변수로 하는 분포"
   ]
  },
  {
   "cell_type": "code",
   "execution_count": 6,
   "id": "660f7439-cf4c-421b-b61d-72c23dde3ce4",
   "metadata": {},
   "outputs": [
    {
     "name": "stdout",
     "output_type": "stream",
     "text": [
      "[수기] 해당 분포의 기댓값은 0.300, 분산은 0.270\n",
      "[수기] 해당 분포의 기댓값은 0.300, 분산은 0.270\n"
     ]
    },
    {
     "name": "stderr",
     "output_type": "stream",
     "text": [
      "C:\\Users\\sunwa\\AppData\\Local\\Temp\\ipykernel_21180\\3984605253.py:3: DeprecationWarning: `np.math` is a deprecated alias for the standard library `math` module (Deprecated Numpy 1.25). Replace usages of `np.math` with `math`\n",
      "  from numpy import math\n"
     ]
    }
   ],
   "source": [
    "from scipy.stats import binom\n",
    "import numpy as np\n",
    "from numpy import math\n",
    "fac = math.factorial\n",
    "def combi(a,b):  # combination 함수 정리\n",
    "    result = fac(a)/fac(b)/fac(a-b)\n",
    "    return result\n",
    "\n",
    "# 근로자가 내년에 회사를 떠날 확률이 0.1이라고 추정한 경우, \n",
    "# 근로자 3명을 무작위로 뽑은 상황\n",
    "n = 3 #근로자 샘플 개수\n",
    "p = 0.1 #떠날 확률\n",
    "\n",
    "# 근로자가 떠날 확률에 대해 기댓값과 분산 계산하기\n",
    "E = n*p\n",
    "V = n*p*(1-p)\n",
    "print(\"[수기] 해당 분포의 기댓값은 {:.3f}, 분산은 {:.3f}\".format(E, V))\n",
    "E2, V2 = binom.stats(n,p)\n",
    "print(\"[수기] 해당 분포의 기댓값은 {:.3f}, 분산은 {:.3f}\".format(E2, V2))"
   ]
  },
  {
   "cell_type": "code",
   "execution_count": 10,
   "id": "76024036-91c5-48fe-9755-bfe5f0b14a51",
   "metadata": {},
   "outputs": [
    {
     "name": "stdout",
     "output_type": "stream",
     "text": [
      "[수기] 해당 분포의 확률질량함수(pmf): 0.243\n",
      "[라이브러리] 해당 분포의 확률질량함수(pmf):  0.243\n"
     ]
    }
   ],
   "source": [
    "# 확률질량함수 계산하기: 1명이 금년에 회사를 떠날 확률은?\n",
    "x = 1  #떠날 샘플 개수 ** 확률변수 X\n",
    "pmf = combi(n,x) * p**x * (1-p)**(n-x)\n",
    "print(\"[수기] 해당 분포의 확률질량함수(pmf): %.3f\" %(pmf))\n",
    "print(\"[라이브러리] 해당 분포의 확률질량함수(pmf): \", binom.pmf(x, n, p))"
   ]
  },
  {
   "cell_type": "code",
   "execution_count": 11,
   "id": "d661b268-a18f-43d7-aaf0-7d53a3aabb71",
   "metadata": {},
   "outputs": [
    {
     "name": "stdout",
     "output_type": "stream",
     "text": [
      "[수기] 해당 분포의 누적확률질량함수(cdf):  0.972\n",
      "[라이브러리] 해당 분포의 누적확률질량함수(cdf):  0.972\n"
     ]
    }
   ],
   "source": [
    "# 누적확률질량함수 계산하기: 1명 이하로 떠날 확률은?\n",
    "cdf = 0\n",
    "for i in range(0,x+1): # 확률변수의 확률값들을 합함 # 0명 떠날 확률 + 1명 떠날 확률\n",
    "    cdf += binom.pmf(i, n, p)\n",
    "print(\"[수기] 해당 분포의 누적확률질량함수(cdf): \", cdf)\n",
    "print(\"[라이브러리] 해당 분포의 누적확률질량함수(cdf): \", binom.cdf(x, n, p))"
   ]
  },
  {
   "cell_type": "code",
   "execution_count": 14,
   "id": "0eed4ee3-9e79-4588-8586-ef3f2918e396",
   "metadata": {},
   "outputs": [
    {
     "name": "stdout",
     "output_type": "stream",
     "text": [
      "이항분포로 계산하면 0.028 정규분포로 근사계산하면 0.028\n"
     ]
    }
   ],
   "source": [
    "# 이항분포의 정규분포 근사: n>20, np>=5, n(1-p)>=5이면 정규분포 N(np,np(1-p))로 근사  \n",
    "from scipy.stats import norm\n",
    "x, n, p = 10, 30, 0.5\n",
    "b_result = binom.pmf(x, n, p)\n",
    "E = n*p\n",
    "sigma = np.sqrt(E*(1-p))\n",
    "zstat1 = (x-0.5-E)/sigma #이항분포의 x에서 -0.5 / 이산형 ↔ 연속형 분포 차이 보정\n",
    "zstat2 = (x+0.5-E)/sigma #이항분포의 x에서 +0.5 / 이산형 ↔ 연속형 분포 차이 보정\n",
    "n_result = norm.cdf(zstat2) - norm.cdf(zstat1)\n",
    "\n",
    "print(\"이항분포로 계산하면 {:.3f} 정규분포로 근사계산하면 {:.3f}\".format(b_result, n_result)) # 결과값이 근사한 것을 볼 수 있다."
   ]
  },
  {
   "cell_type": "code",
   "execution_count": 13,
   "id": "d39667f9-e78f-482e-9c8d-186544702bbd",
   "metadata": {},
   "outputs": [
    {
     "name": "stdout",
     "output_type": "stream",
     "text": [
      "이항분포로 계산하면 0.017 포아송분포로 근사계산하면 0.018\n"
     ]
    }
   ],
   "source": [
    "# 이항분포의 포아송분포 근사: p<=0.1, np=0.1~10, n>=50이면 포아송 분포 P(np)로 근사\n",
    "from scipy.stats import poisson\n",
    "x, n, p = 10, 100, 0.05\n",
    "b_result = binom.pmf(x, n, p)\n",
    "E = n*p\n",
    "p_result = poisson.pmf(x, E)\n",
    "print(\"이항분포로 계산하면 {:.3f} 포아송분포로 근사계산하면 {:.3f}\".format(b_result, p_result)) # 결과값이 근사한 것을 볼 수 있다."
   ]
  },
  {
   "cell_type": "markdown",
   "id": "a1612831-c5d1-42b2-9c42-5e58212f77ff",
   "metadata": {},
   "source": [
    "#### 음이항 분포\n",
    ": 성공 확률이 p인 베르누이를 독립적으로 반복 시행하여 k번 성공할 때까지의 시행횟수 or 실패횟수를 확률변수로 하는 분포"
   ]
  },
  {
   "cell_type": "code",
   "execution_count": 51,
   "id": "2b5decfd-95c2-47ae-976a-ada6d4941caa",
   "metadata": {},
   "outputs": [
    {
     "name": "stdout",
     "output_type": "stream",
     "text": [
      "[수기] 해당 분포의 기댓값은 4.667, 분산은 15.556\n",
      "[라이브러리] 해당 분포의 기댓값은 4.667, 분산은 15.556 \n",
      "\n",
      "[수기] 확률질량함수(pmf):  0.12347999999999996\n",
      "[라이브러리] 확률질량함수(pmf):  0.12348 \n",
      "\n",
      "[수기] 누적확률질량함수(cdf):  0.47177999999999987\n",
      "[라이브러리] 누적확률질량함수(cdf):  0.47178\n"
     ]
    }
   ],
   "source": [
    "# 음 이항분포\n",
    "# A가 승리할 확률이 0.3일 때, 5번 경기를 치르는 상황\n",
    "from scipy.stats import nbinom\n",
    "import math\n",
    "fac = math.factorial\n",
    "def combi (a,b):\n",
    "    result = fac(a) / fac(b) / fac(a-b)\n",
    "    return result\n",
    "\n",
    "n = 5  # 총 시행회수\n",
    "k = 2  # 총 성공 횟수\n",
    "p = 0.3 # 성공 확률\n",
    "q = 1-p # 실패 확률\n",
    "case = 2\n",
    "if case ==1: # 확률변수 X가 k번 성공할 때까지의 시행횟수 x인 경우\n",
    "    x = n # **확률변수\n",
    "    E = k / p\n",
    "    V = k*q / p**2\n",
    "    pmf = combi(x-1, k-1) * p**k * q**(x-k)\n",
    "    E2, V2 = np.nan, np.nan ## 라이브러리 지원 안 함\n",
    "    pkg_pmf, pkg_cdf = np.nan, np.nan ## 라이브러리 지원 안 함\n",
    "    cdf = 0\n",
    "    for i in range(k, x+1): # 확률변수의 확률값들을 합함\n",
    "        cdf += combi(i-1, k-1) * p**k * q**(i-k)\n",
    "        \n",
    "elif case ==2: # 확률변수 X가 k번 성공할 때까지의 실패횟수 x인 경우\n",
    "    x = n - k # **확률변수\n",
    "    E = k*q / p\n",
    "    V = k*q / p**2\n",
    "    pmf = combi(x+k-1, k-1) * p**k * q**(x)\n",
    "    E2, V2 = nbinom.stats(k, p)\n",
    "    pkg_pmf, pkg_cdf = nbinom.pmf(x, k, p), nbinom.cdf(x, k, p)\n",
    "    cdf = 0\n",
    "    for i in range(0, x+1): # 확률변수의 확률값들을 합함\n",
    "        cdf += nbinom.pmf(i, k, p)\n",
    "\n",
    "# 기댓값과 분산 계산하기\n",
    "print(\"[수기] 해당 분포의 기댓값은 {:.3f}, 분산은 {:.3f}\".format(E, V))\n",
    "print(\"[라이브러리] 해당 분포의 기댓값은 {:.3f}, 분산은 {:.3f}\".format(E2, V2), '\\n')\n",
    "\n",
    "# 확률질량함수 계산하기\n",
    "print(\"[수기] 확률질량함수(pmf): \", pmf)\n",
    "print(\"[라이브러리] 확률질량함수(pmf): \", pkg_pmf, '\\n')\n",
    "\n",
    "# 누적확률질량함수 계산하기: 2번째 이하로 이길 확률은?\n",
    "print(\"[수기] 누적확률질량함수(cdf): \", cdf)\n",
    "print(\"[라이브러리] 누적확률질량함수(cdf): \", pkg_cdf)"
   ]
  },
  {
   "cell_type": "markdown",
   "id": "e809b2cd-dc19-41f4-bf58-a6e3e4da7ba9",
   "metadata": {},
   "source": [
    "#### 기하 분포\n",
    ": 성공 확률이 p인 베르누이를 독립적으로 반복 시행하여 1번 성공할 때까지의 시행횟수 or 실패횟수를 확률변수로 하는 분포  \n",
    ": 즉, 음이항 분포에서 k=1인 경우 / 이산확률분포에서 유일하게 무기억성의 성질 (과거 실패가 앞으로 영향을 미치지 않음)"
   ]
  },
  {
   "cell_type": "code",
   "execution_count": 52,
   "id": "80206a13-6276-4bb3-b2ee-9d9dac3d49de",
   "metadata": {},
   "outputs": [
    {
     "name": "stdout",
     "output_type": "stream",
     "text": [
      "[수기] 해당 분포의 기댓값은 6.000, 분산은 30.000\n",
      "[라이브러리] 해당 분포의 기댓값은 6.000, 분산은 30.000 \n",
      "\n",
      "[수기] 확률질량함수(pmf):  0.11574074074074076\n",
      "[라이브러리] 확률질량함수(pmf):  0.11574074074074076 \n",
      "\n",
      "[수기] 누적확률질량함수(cdf):  0.42129629629629634\n",
      "[라이브러리] 누적확률질량함수(cdf):  0.4212962962962962\n"
     ]
    }
   ],
   "source": [
    "# 기하분포\n",
    "# 하나의 주사위를 세번 던질 때 세번째 시행에서 앞면 숫자가 6이 나올 확률은?\n",
    "from scipy.stats import geom\n",
    "n = 3 # 총 시행횟수\n",
    "p = 1/6 # 성공확률\n",
    "q = 1-p # 실패확률\n",
    "\n",
    "case = 1\n",
    "if case ==1: # 확률변수 X가 처음으로 성공할 때까지의 시행횟수 x인 경우\n",
    "    x = n # **확률변수\n",
    "    E = 1 / p\n",
    "    V = q / p**2\n",
    "    pmf = q**(x-1) * p\n",
    "    E2, V2 = geom.stats(p, moments = 'mv') # mean, variance --> moments = 'mv' 없어도 같은 결과\n",
    "    pkg_pmf, pkg_cdf = geom.pmf(x, p), geom.cdf(x, p)\n",
    "    cdf = 0\n",
    "    for i in range(1, x+1): # 확률변수의 확률값들을 합함\n",
    "        cdf += q**(i-1) * p\n",
    "        \n",
    "elif case ==2: # 확률변수 X가 처음으로 성공할 때까지의 실패횟수 x인 경우\n",
    "    x = n - 1 # **확률변수\n",
    "    E = q / p\n",
    "    V = q / p**2\n",
    "    pmf = q**x * p\n",
    "    E2, V2 = np.nan, np.nan ## 라이브러리 지원 안 함\n",
    "    pkg_pmf, pkg_cdf = np.nan, np.nan ## 라이브러리 지원 안 함\n",
    "    cdf = 0\n",
    "    for i in range(0, x+1): # 확률변수의 확률값들을 합함\n",
    "        cdf += q**i * p\n",
    "\n",
    "# 기댓값과 분산 계산하기\n",
    "print(\"[수기] 해당 분포의 기댓값은 {:.3f}, 분산은 {:.3f}\".format(E, V))\n",
    "print(\"[라이브러리] 해당 분포의 기댓값은 {:.3f}, 분산은 {:.3f}\".format(E2, V2), '\\n')\n",
    "\n",
    "# 확률질량함수 계산하기\n",
    "print(\"[수기] 확률질량함수(pmf): \", pmf)\n",
    "print(\"[라이브러리] 확률질량함수(pmf): \", pkg_pmf, '\\n')\n",
    "\n",
    "# 누적확률질량함수 계산하기: 2번째 이하로 이길 확률은?\n",
    "print(\"[수기] 누적확률질량함수(cdf): \", cdf)\n",
    "print(\"[라이브러리] 누적확률질량함수(cdf): \", pkg_cdf)"
   ]
  },
  {
   "cell_type": "markdown",
   "id": "d8ec7001-c798-442c-b5d0-b4f80ef89d6c",
   "metadata": {},
   "source": [
    "#### 초기하 분포\n",
    ": 크기 N의 유한모집단 중 크기 n의 확률표본을 뽑을 경우, N개 중 k개는 성공 / N-k개는 실패로 분류하여 비복원으로 뽑을 때 성공횟수를 확률변수로 하는 분포  \n",
    ": 모집단 N이 충분히 크면, n개 시행 중 성공확률이 k/N인 이항분포 B(n,k/N)로 근사"
   ]
  },
  {
   "cell_type": "code",
   "execution_count": 68,
   "id": "202b6df2-c921-43e9-b179-f4040da64539",
   "metadata": {},
   "outputs": [
    {
     "name": "stdout",
     "output_type": "stream",
     "text": [
      "[수기] 해당 분포의 기댓값은 0.200, 분산은 0.178\n",
      "[라이브러리] 해당 분포의 기댓값은 0.200, 분산은 0.178 \n",
      "\n",
      "[수기] 해당 분포의 확률질량함수(pmf): 0.182\n",
      "[라이브러리] 해당 분포의 확률질량함수(pmf): 0.182 \n",
      "\n",
      "[수기] 해당 분포의 누적확률질량함수(cdf): 0.991\n",
      "[라이브러리] 해당 분포의 누적확률질량함수(cdf): 0.991\n"
     ]
    }
   ],
   "source": [
    "# 초기하 분포\n",
    "from scipy.stats import hypergeom\n",
    "import math\n",
    "fac = math.factorial\n",
    "def combi(a, b): #combination 함수 정의\n",
    "    result = fac(a)/fac(b)/fac(a-b)\n",
    "    return result\n",
    "\n",
    "#상자 속에 빨간 공이 90개 파란 공이 10개 들어 있다. 임의로 1개씩 두 번 꺼내고 다시 넣지 않을 때 1개가 파란 공이 될 확률은?\n",
    "N = 100 #모집단 수 (총 공 개수)\n",
    "k = 10 #성공요소 수 (총 파란공 개수)\n",
    "n = 2 #시행횟수 (공 선택 횟수)\n",
    "x = 1 #확인하고자 하는 사건 (1개 파란공) **확률변수\n",
    "P = k/N #모비율\n",
    "\n",
    "# 기댓값과 분산 계산하기\n",
    "E = n*P\n",
    "V = n*P*(1-P)*((N-n)/(N-1))\n",
    "print(\"[수기] 해당 분포의 기댓값은 {:.3f}, 분산은 {:.3f}\".format(E, V))\n",
    "E2, V2 = hypergeom.stats(N, k, n)\n",
    "print(\"[라이브러리] 해당 분포의 기댓값은 {:.3f}, 분산은 {:.3f}\".format(E2, V2), '\\n')\n",
    "\n",
    "# 확률질량함수 계산하기\n",
    "pmf = combi(k,x)*combi(N-k, n-x)/combi(N, n)\n",
    "print(\"[수기] 해당 분포의 확률질량함수(pmf): %.3f\" %(pmf))\n",
    "print(\"[라이브러리] 해당 분포의 확률질량함수(pmf): %.3f\" %(hypergeom.pmf(x, N, k, n)), '\\n')\n",
    "\n",
    "# 누적확률질량함수 계산하기: 파란공을 1개 이하로 선택할 확률은?\n",
    "cdf = 0\n",
    "for i in range(0,x+1): # 확률변수의 확률값들을 합함\n",
    "    cdf += hypergeom.pmf(i, N, k, n)\n",
    "print(\"[수기] 해당 분포의 누적확률질량함수(cdf): %.3f\" %cdf)\n",
    "print(\"[라이브러리] 해당 분포의 누적확률질량함수(cdf): %.3f\" %(hypergeom.cdf(x, N, k, n)))"
   ]
  },
  {
   "cell_type": "code",
   "execution_count": 69,
   "id": "d3f9d63b-934b-4222-820e-3ea1046fa104",
   "metadata": {},
   "outputs": [
    {
     "name": "stdout",
     "output_type": "stream",
     "text": [
      "초기하분포로 계산하면 0.182 이항분포로 근사계산하면 0.180\n"
     ]
    }
   ],
   "source": [
    "# 초기하 분포의 이항분포 근사\n",
    "from scipy.stats import norm\n",
    "\n",
    "b_result = binom.pmf(x, n, k/N)\n",
    "h_result = hypergeom.pmf(x, N, k, n)\n",
    "print(\"초기하분포로 계산하면 {:.3f} 이항분포로 근사계산하면 {:.3f}\".format(h_result,b_result)) \n",
    "# 결과값이 근사한 것을 볼 수 있다."
   ]
  },
  {
   "cell_type": "markdown",
   "id": "570fb1e1-4939-4692-a450-0ce1d0eeb796",
   "metadata": {},
   "source": [
    "#### 포아송 분포\n",
    ": 단위시간/면적/공간 내에서 발생하는 어떤 사건의 횟수를 확률변수 X라고 할 때, 확률변수 X는 lambda (사건의 평균값)을 모수로 갖는 포아송 분포를 따름  \n",
    ": lambda > 5일 때 정규분포로 근사, lambda < 5이면 왼쪽으로 치우치고 오른쪽으로 긴꼬리가 있는 비대칭 분포"
   ]
  },
  {
   "cell_type": "code",
   "execution_count": 79,
   "id": "88cc59c7-a50f-436a-b526-1b3e10ab8d8a",
   "metadata": {},
   "outputs": [
    {
     "name": "stdout",
     "output_type": "stream",
     "text": [
      "[수기] 해당 분포의 기댓값은 3.000, 분산은 3.000\n",
      "[라이브러리] 해당 분포의 기댓값은 3.000, 분산은 3.000 \n",
      "\n",
      "[수기] 해당 분포의 확률질량함수(pmf): 0.168\n",
      "[라이브러리] 해당 분포의 확률질량함수(pmf): 0.168 \n",
      "\n",
      "[수기] 해당 분포의 누적확률질량함수(cdf): 0.815\n",
      "[라이브러리] 해당 분포의 누적확률질량함수(cdf): 0.815\n"
     ]
    },
    {
     "name": "stderr",
     "output_type": "stream",
     "text": [
      "C:\\Users\\sunwa\\AppData\\Local\\Temp\\ipykernel_21180\\1118729848.py:16: DeprecationWarning: `np.math` is a deprecated alias for the standard library `math` module (Deprecated Numpy 1.25). Replace usages of `np.math` with `math`\n",
      "  pmf = lam**x * np.exp(-lam)/np.math.factorial(x)\n"
     ]
    }
   ],
   "source": [
    "# 포아송 분포\n",
    "from scipy.stats import poisson\n",
    "\n",
    "#주말 저녁 시간 당 평균 6명이 응급실 올 경우, 어떤 주말 저녁 30분 내 4명이 도착할 확률은?\n",
    "x = 4 #구간 내 사건 횟수 **확률변수\n",
    "lam = 3 #구간 내 평균 (=lambda)\n",
    "\n",
    "# 기댓값과 분산 계산하기\n",
    "E = lam\n",
    "V = lam\n",
    "print(\"[수기] 해당 분포의 기댓값은 {:.3f}, 분산은 {:.3f}\".format(E, V))\n",
    "E2, V2 = poisson.stats(lam, moments='mv')\n",
    "print(\"[라이브러리] 해당 분포의 기댓값은 {:.3f}, 분산은 {:.3f}\".format(E2, V2), '\\n')\n",
    "\n",
    "# 확률질량함수 계산하기\n",
    "pmf = lam**x * np.exp(-lam)/np.math.factorial(x)\n",
    "print(\"[수기] 해당 분포의 확률질량함수(pmf): %.3f\" %(pmf))\n",
    "print(\"[라이브러리] 해당 분포의 확률질량함수(pmf): %.3f\" %(poisson.pmf(x, lam)), '\\n')\n",
    "\n",
    "# 누적확률질량함수 계산하기: 4명 이하로 도착할 확률은?\n",
    "cdf = 0\n",
    "for i in range(0,x+1): # 확률변수의 확률값들을 합함\n",
    "    cdf += poisson.pmf(i, lam)\n",
    "print(\"[수기] 해당 분포의 누적확률질량함수(cdf): %.3f\" %cdf)\n",
    "print(\"[라이브러리] 해당 분포의 누적확률질량함수(cdf): %.3f\" %(poisson.cdf(x, lam)))"
   ]
  },
  {
   "cell_type": "code",
   "execution_count": 80,
   "id": "1eff4a52-9bc9-48a6-ba57-c5cedf2de628",
   "metadata": {},
   "outputs": [
    {
     "name": "stdout",
     "output_type": "stream",
     "text": [
      "포아송 분포로 계산하면 0.006 정규분포로 계산하면 0.007\n"
     ]
    }
   ],
   "source": [
    "# 포아송 분포의 정규분포 근사\n",
    "from scipy.stats import norm\n",
    "import numpy as np\n",
    "x = 10\n",
    "lam = 20\n",
    "E = V = lam\n",
    "sigma = np.sqrt(V) #포아송 분포의 표준편차\n",
    "zstat1 = (x-0.5-lam)/sigma #포아송분포의 x에서 -0.5\n",
    "zstat2 = (x+0.5-lam)/sigma #포아송분포의 x에서 +0.5\n",
    "n_result = norm.cdf(zstat2) - norm.cdf(zstat1)\n",
    "p_result = poisson.pmf(x, lam)\n",
    "\n",
    "print(\"포아송 분포로 계산하면 {:.3f} 정규분포로 계산하면 {:.3f}\".format(p_result, n_result)) # 결과값이 근사한 것을 볼 수 있다."
   ]
  },
  {
   "cell_type": "markdown",
   "id": "2b05b237-fc0b-4196-9d4f-a4420e302833",
   "metadata": {},
   "source": [
    "### **4-2. 특수한 연속형 확률분포들**"
   ]
  },
  {
   "cell_type": "markdown",
   "id": "5a461a29-f75f-4192-b1f9-f4d257f88038",
   "metadata": {},
   "source": [
    "#### 균일분포"
   ]
  },
  {
   "cell_type": "code",
   "execution_count": 81,
   "id": "b20f5cb4-7073-4ab6-8973-d3d1c10d5821",
   "metadata": {},
   "outputs": [
    {
     "name": "stdout",
     "output_type": "stream",
     "text": [
      "[수기] 범위 내 누적확률은 0.300\n",
      "[수기] 해당 분포의 기댓값은 10.000, 분산은 8.333\n"
     ]
    }
   ],
   "source": [
    "# 균일 분포\n",
    "# 확률변수 X가 (5, 15)에서 균일분포를 따를 때 12와 15 사이의 확률은?\n",
    "a = 5 #확률변수의 범위\n",
    "b = 15 #확률변수의 범위\n",
    "range_ = [(12, 15)]\n",
    "p = 1/(b-a) #확률밀도함수\n",
    "cdf = 0\n",
    "for (x1, x2) in range_:\n",
    "    cdf += (x2-x1) * p #누적분포함수\n",
    "E = (b+a)/2\n",
    "V = (b-a)**2 / 12\n",
    "print(\"[수기] 범위 내 누적확률은 {:.3f}\".format(cdf))\n",
    "print(\"[수기] 해당 분포의 기댓값은 {:.3f}, 분산은 {:.3f}\".format(E, V))"
   ]
  },
  {
   "cell_type": "code",
   "execution_count": 82,
   "id": "36d83acc-f074-497f-a9e7-4981cb2a71b7",
   "metadata": {},
   "outputs": [
    {
     "name": "stdout",
     "output_type": "stream",
     "text": [
      "[수기] 범위 내 누적확률은 0.333\n",
      "[수기] 해당 분포의 기댓값은 15.000, 분산은 75.000\n"
     ]
    }
   ],
   "source": [
    "# 버스가 오전 7시부터 15분 간격으로 정류장을 출발한다. 한 승객이 이 정류장에 도착하는 시간은 7시에서 7시 30분 사이에 균등분포를 따른다고 할 때 이 승객이 버스를 5분 미만 기다릴 확률은?\n",
    "a = 0 #확률변수의 범위\n",
    "b = 30 #확률변수의 범위\n",
    "\n",
    "# 승객이 버스를 5분 미만으로 기다릴 구간: 7시 10분~7시 15분, 7시 25분~ 7시30분\n",
    "range_ = [(10, 15), (25, 30)] #구할 범위\n",
    "p = 1/(b-a) #확률밀도함수\n",
    "cdf = 0\n",
    "for (x1, x2) in range_:\n",
    "    cdf += (x2-x1) * p #누적분포함수\n",
    "\n",
    "E = (b+a)/2\n",
    "V = (b-a)**2 / 12\n",
    "\n",
    "print(\"[수기] 범위 내 누적확률은 {:.3f}\".format(cdf))\n",
    "print(\"[수기] 해당 분포의 기댓값은 {:.3f}, 분산은 {:.3f}\".format(E, V))"
   ]
  },
  {
   "cell_type": "markdown",
   "id": "4ef62ffd-bd2c-4c03-93a7-1d3ce1349a29",
   "metadata": {},
   "source": [
    "#### 정규분포와 표준정규분포\n",
    ": 정규분포의 왜도는 0, 첨도는 3 / 양측꼬리는 x축에 닿지 않고 무한대로 확장"
   ]
  },
  {
   "cell_type": "code",
   "execution_count": 83,
   "id": "8fd40292-abda-46fc-9fc8-8463a2abbc85",
   "metadata": {},
   "outputs": [
    {
     "name": "stdout",
     "output_type": "stream",
     "text": [
      "[수기] 범위 내 누적확률은 0.669\n",
      "[수기] 해당 분포의 기댓값은 30.000, 분산은 64.000\n"
     ]
    }
   ],
   "source": [
    "# 정규분포\n",
    "# 확률변수 X가 정규분포 N(30, 64)를 따를 때 26 ~ 46 구간의 확률은?\n",
    "from scipy.stats import norm #표준정규분포\n",
    "import numpy as np\n",
    "E = 30 # 평균\n",
    "V = 64\n",
    "S = np.sqrt(V) # 표준편차\n",
    "x1 = 26\n",
    "x2 = 46\n",
    "zstat1 = (x1-E)/S #표준화\n",
    "zstat2 = (x2-E)/S #표준화\n",
    "cdf = norm.cdf(zstat2) - norm.cdf(zstat1)\n",
    "print(\"[수기] 범위 내 누적확률은 {:.3f}\".format(cdf))\n",
    "print(\"[수기] 해당 분포의 기댓값은 {:.3f}, 분산은 {:.3f}\".format(E, V))"
   ]
  },
  {
   "cell_type": "code",
   "execution_count": 84,
   "id": "4177ed7e-54b6-4ec0-b2b8-44c2e4840846",
   "metadata": {},
   "outputs": [
    {
     "name": "stdout",
     "output_type": "stream",
     "text": [
      "[수기] 범위 내 누적확률은 0.950\n",
      "[수기] 해당 분포의 기댓값은 0.000, 분산은 1.000\n"
     ]
    }
   ],
   "source": [
    "# 표준정규분포\n",
    "# 확률변수 X가 표준정규분포를 따를 때 -1.96 ~ 1.96 구간의 확률은?\n",
    "E = 0 # 평균\n",
    "V = 1\n",
    "S = np.sqrt(V) # 표준편차\n",
    "zstat1 = -1.96\n",
    "zstat2 = 1.96\n",
    "cdf = norm.cdf(zstat2) - norm.cdf(zstat1)\n",
    "print(\"[수기] 범위 내 누적확률은 {:.3f}\".format(cdf))\n",
    "print(\"[수기] 해당 분포의 기댓값은 {:.3f}, 분산은 {:.3f}\".format(E, V))"
   ]
  },
  {
   "cell_type": "markdown",
   "id": "3fe81177-e29b-4523-ba8e-cbc50453d604",
   "metadata": {},
   "source": [
    "#### 지수분포\n",
    ": 어떤 사건이 포아송 분포에 의해서 발생될 때, 지정된 시점으로부터 이 사건이 일어날 때가지 걸린 시간을 측정하는 확률분포로  \n",
    "  확률변수 X는 한 번의 사건이 발생할 때까지 소요되는 시간 (lambda는 단위시간 동안 평균적으로 발생하는 사건 횟수 in 포아송)"
   ]
  },
  {
   "cell_type": "code",
   "execution_count": 85,
   "id": "e37d1a37-3bd5-4585-a655-4059f4f57903",
   "metadata": {},
   "outputs": [
    {
     "name": "stdout",
     "output_type": "stream",
     "text": [
      "[수기] 누적확률은 0.487\n",
      "[수기] 해당 분포의 기댓값은 3.000, 분산은 9.000\n"
     ]
    }
   ],
   "source": [
    "# 지수분포\n",
    "from scipy.stats import expon\n",
    "\n",
    "# 자동차들 사이 시간 간격이 평균 3분인 지수확률 분포를 따르는 경우, 연속한 두대의 차량이 도착하는 시간이 2분 이내일 확률은?\n",
    "lam = 1/3 # lambda: 단위시간 동안 평균적으로 발생한 사건 = 3분동안 1건, 1분동안 1/3건\n",
    "x = 2 # 사건이 일어날 때까지 걸린 시간\n",
    "\n",
    "E = 1/lam\n",
    "V = 1/(lam**2)\n",
    "# scale에 1/lam을 입력해주어야 함\n",
    "cdf = expon.cdf(x, scale = 1/lam) \n",
    "\n",
    "print(\"[수기] 누적확률은 {:.3f}\".format(cdf))\n",
    "print(\"[수기] 해당 분포의 기댓값은 {:.3f}, 분산은 {:.3f}\".format(E, V))"
   ]
  },
  {
   "cell_type": "markdown",
   "id": "fa2b4fe7-fc06-40be-a8ae-722796b99fdc",
   "metadata": {},
   "source": [
    "#### 감마분포\n",
    ": 지수분포의 일반화된 형태로, alpha번의 사건이 발생할 때까지의 대기시간 분포 (alpha = 1이면 beta = 1/lambda인 지수분포)"
   ]
  },
  {
   "cell_type": "code",
   "execution_count": 88,
   "id": "01bbba03-cd13-4656-a71f-0b74a754298b",
   "metadata": {},
   "outputs": [
    {
     "name": "stdout",
     "output_type": "stream",
     "text": [
      "[수기] 누적확률은 0.706\n",
      "[수기] 해당 분포의 기댓값은 2.000, 분산은 1.000\n"
     ]
    }
   ],
   "source": [
    "# 감마분포\n",
    "from scipy.stats import gamma\n",
    "# 낚시를 하는데 어부가 물고기를 30분에 한 마리씩 잡는다. 어부가 4마리의 물고기를 잡을 때까지 걸리는 시간이 1시간에서 3시간 사이로 소요될 확률은?\n",
    "lam = 2 # lambda: 30분에 한마리 = 1시간에 두마리 잡음\n",
    "beta = 1/lam\n",
    "alpha = 4 # 4마리의 물고기\n",
    "E = alpha * beta\n",
    "V = alpha * beta**2\n",
    "range_ = (1, 3) #1시간~3시간\n",
    "\n",
    "# scale에 beta를 입력해주어야 함\n",
    "cdf = gamma.cdf(range_[1], alpha, scale=beta) - gamma.cdf(range_[0], alpha, scale=beta)\n",
    "\n",
    "print(\"[수기] 누적확률은 {:.3f}\".format(cdf))\n",
    "print(\"[수기] 해당 분포의 기댓값은 {:.3f}, 분산은 {:.3f}\".format(E, V))"
   ]
  },
  {
   "cell_type": "code",
   "execution_count": 91,
   "id": "cf7a1df3-fd1d-4b18-860f-82fd0a052f36",
   "metadata": {},
   "outputs": [
    {
     "name": "stdout",
     "output_type": "stream",
     "text": [
      "[수기] 누적확률은 0.820\n",
      "[수기] 해당 분포의 기댓값은 12.500, 분산은 7.812\n"
     ]
    }
   ],
   "source": [
    "# 배송 시간이 alpha = 20, lambda = 1.6인 감마분포를 따를 때,\n",
    "# 20개 철판을 배송할 때 걸리는 시간이 15분 이내일 확률은?\n",
    "lam = 1.6 # lambda\n",
    "beta = 1/lam\n",
    "alpha = 20 \n",
    "E = alpha * beta\n",
    "V = alpha * beta**2\n",
    "range_ = (0, 15)\n",
    "\n",
    "# scale에 beta를 입력해주어야 함\n",
    "cdf = gamma.cdf(range_[1], alpha, scale=beta) - gamma.cdf(range_[0], alpha, scale=beta)\n",
    "\n",
    "print(\"[수기] 누적확률은 {:.3f}\".format(cdf))\n",
    "print(\"[수기] 해당 분포의 기댓값은 {:.3f}, 분산은 {:.3f}\".format(E, V))"
   ]
  },
  {
   "cell_type": "markdown",
   "id": "1628898b-0191-4c4a-af16-f61ff91e5d92",
   "metadata": {},
   "source": [
    "#### 카이제곱 분포\n",
    ": 감마분포의 특수한 경우 (alpha = n/2, beta = 2인 감마분포 --> 자유도 n인 카이제곱 분포)  \n",
    ": 1) 모집단이 정규분포일 떄 표본에서 모분산 추정/검정 &nbsp;  2) 비모수 검정 중 범주형 변수들에 대한 적합도/독립성/동질성 검정  "
   ]
  },
  {
   "cell_type": "markdown",
   "id": "125fe58a-bef9-4525-b259-077beecd76b6",
   "metadata": {},
   "source": [
    "#### t분포\n",
    ": 표본 평균을 표본 분산으로 표준화한 값이 따르는 확률분포 / 주로, 모분산을 모르는 상황에서 표본 평균 추정/검정시 사용  \n",
    ": t분포는 자유도가 증가할수록 표준정규분포에 수렴 / 주로 30개 이하의 소표본에 사용"
   ]
  },
  {
   "cell_type": "markdown",
   "id": "64557290-4e22-417e-be5d-eaa14704fbe8",
   "metadata": {},
   "source": [
    "#### F분포\n",
    ": 1) 두 모집단의 모분산 비의 추정/검정 &nbsp; 2) 세집단 이상의 모평균 비교"
   ]
  },
  {
   "cell_type": "code",
   "execution_count": null,
   "id": "b368cc75-6b09-4156-95dd-8f51cd98fb00",
   "metadata": {},
   "outputs": [],
   "source": []
  },
  {
   "cell_type": "markdown",
   "id": "4acca7a4-decb-4571-867b-56c3eef1fae2",
   "metadata": {},
   "source": [
    "#### 연습문제 #1"
   ]
  },
  {
   "cell_type": "code",
   "execution_count": 93,
   "id": "0558e2aa-729a-45f6-a1be-9fb1d400ad35",
   "metadata": {},
   "outputs": [
    {
     "name": "stdout",
     "output_type": "stream",
     "text": [
      "해당 분포의 기댓값은 4.000, 분산은 0.800\n"
     ]
    }
   ],
   "source": [
    "# 이항 분포\n",
    "from scipy.stats import binom\n",
    "p = 0.8\n",
    "n = 5\n",
    "E, V = binom.stats (n,p)\n",
    "print(\"해당 분포의 기댓값은 {:.3f}, 분산은 {:.3f}\".format(E, V))"
   ]
  },
  {
   "cell_type": "markdown",
   "id": "c7c1832f-9534-4afd-8a95-b092a6467c81",
   "metadata": {},
   "source": [
    "#### 연습문제 #2"
   ]
  },
  {
   "cell_type": "code",
   "execution_count": 96,
   "id": "a636bac5-f5ec-4097-a997-b446f531b052",
   "metadata": {},
   "outputs": [
    {
     "name": "stdout",
     "output_type": "stream",
     "text": [
      "해당 분포의 확률질량함수(pmf): 0.215\n"
     ]
    }
   ],
   "source": [
    "# 이항 분포에서 pmf 계산\n",
    "from scipy.stats import binom\n",
    "p = 0.4\n",
    "n = 10\n",
    "x = 3\n",
    "\n",
    "print(\"해당 분포의 확률질량함수(pmf): %.3f\" %binom.pmf (x, n, p))"
   ]
  },
  {
   "cell_type": "markdown",
   "id": "e166da04-77c8-43ba-ba4a-553239a843d5",
   "metadata": {},
   "source": [
    "#### 연습문제 #3"
   ]
  },
  {
   "cell_type": "code",
   "execution_count": 98,
   "id": "93e0cfbd-ab16-46f6-813d-56172a785731",
   "metadata": {},
   "outputs": [
    {
     "name": "stdout",
     "output_type": "stream",
     "text": [
      "해당 분포의 확률질량함수(pmf): 0.0337\n"
     ]
    }
   ],
   "source": [
    "# 포아송 분포 pmf 계산\n",
    "lam = 5\n",
    "x = 1\n",
    "\n",
    "from scipy.stats import poisson\n",
    "print(\"해당 분포의 확률질량함수(pmf): %.4f\" %poisson.pmf(x, lam))\n",
    "\n"
   ]
  },
  {
   "cell_type": "markdown",
   "id": "128e1586-52d5-457a-82c4-383adb27e871",
   "metadata": {},
   "source": [
    "#### 연습문제 #4"
   ]
  },
  {
   "cell_type": "code",
   "execution_count": 112,
   "id": "520a54a2-a74b-4125-9e2f-1f0ebc3a6619",
   "metadata": {},
   "outputs": [
    {
     "data": {
      "text/plain": [
       "80.3786187865352"
      ]
     },
     "execution_count": 112,
     "metadata": {},
     "output_type": "execute_result"
    }
   ],
   "source": [
    "# 정규분포에서 ppf 계산\n",
    "from scipy.stats import norm\n",
    "E = 65\n",
    "S = 12\n",
    "norm.ppf(1-0.1,E,S)"
   ]
  }
 ],
 "metadata": {
  "kernelspec": {
   "display_name": "Python 3 (ipykernel)",
   "language": "python",
   "name": "python3"
  },
  "language_info": {
   "codemirror_mode": {
    "name": "ipython",
    "version": 3
   },
   "file_extension": ".py",
   "mimetype": "text/x-python",
   "name": "python",
   "nbconvert_exporter": "python",
   "pygments_lexer": "ipython3",
   "version": "3.12.7"
  }
 },
 "nbformat": 4,
 "nbformat_minor": 5
}
